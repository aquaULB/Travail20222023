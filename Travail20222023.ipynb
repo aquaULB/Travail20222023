{
 "cells": [
  {
   "cell_type": "markdown",
   "metadata": {},
   "source": [
    "# Travail Personnel d'analyse numérique MATH-F3414(1), année académique 2022-2023\n",
    "\n",
    "## Nom / Prénom :"
   ]
  },
  {
   "cell_type": "markdown",
   "metadata": {},
   "source": [
    "*Remarque: en soumettant ce travail, vous vous engagez à le faire de manière individuelle. Tout plagiat sera sanctionné selon le réglement en vigueur à l'Université Libre de Bruxelles.*\n",
    "\n",
    "*La date limite de remise de ce travail est le 24/12/2021 à 11h59:59s. Après cette date, il ne sera pas comptabilisé.*"
   ]
  },
  {
   "cell_type": "markdown",
   "metadata": {},
   "source": [
    "## Introduction\n",
    "\n",
    "L'équation (non-linéaire) de Korteweg-de-Vries (KdV) permet par exemple de modéliser la propagation faiblement non-linéaire d'ondes en eau peu profonde. Elle peut s'écrire sous la forme:\n",
    "\n",
    "$$\n",
    "\\frac{\\partial u}{\\partial t} +  3 \\frac{\\partial u^2}{\\partial x} + \\frac{\\partial^3 u}{\\partial x^3}=0\n",
    "$$"
   ]
  },
  {
   "cell_type": "markdown",
   "metadata": {},
   "source": [
    "## Partie 1\n",
    "\n",
    "Cette équation admet des solutions qui se propagent sans déformations et qui s'appellent des 'solitons'. Ces solitons prennent la forme suivante:\n",
    "\n",
    "$$\n",
    "u(x,t) = u_0(x-ct)\n",
    "$$\n",
    "avec\n",
    "$$\n",
    "u_0(x) = \\frac{c}{2}\\sec(\\frac{\\sqrt{c}}{2}(x-a))\n",
    "$$\n",
    "où $\\sec$ est la fonction sécante hyperbolique et $c, a$ sont des constantes.\n",
    "\n",
    "Dans cette partie du travail on résoudra l'équation dans l'interval $x\\in [0,L]$ qui est discrétisé aux $nx=401$ points $x_j$ suivants:\n",
    "\n",
    "$$\n",
    "x_j = j\\Delta x,\\; j \\in [0,...,nx],\\; \\Delta x = \\frac{L}{nx-1}\n",
    "$$\n",
    "\n",
    "En dehors de cet interval, on fait l'hypothèse que $u(x,t)=0, \\forall t$."
   ]
  },
  {
   "cell_type": "markdown",
   "metadata": {},
   "source": [
    "### Question 1\n",
    "\n",
    "a) Intégrer l'équation de KdV dans un interval de longueur $L=100$ jusqu'en $t=30$ et vérifier graphiquement qu'à cet instant la solution s'obtient bien en translatant la condition initiale sans déformation.\n",
    "\n",
    "Pour les opérateurs différentiels on prendra des formules de différences finies centrées d'ordre 2 (sous forme matricielle) et on utilisera la méthode Runge-Kutta 4 vue au cours pour l'algorithme d'avancement dans le temps (choisir un pas de temps qui permet d'obtenir une solution qualitativement acceptable). \n",
    "\n",
    "Pour les paramètres de la condition initiale on choisit $c=2$ et $a=20$."
   ]
  },
  {
   "cell_type": "markdown",
   "metadata": {},
   "source": [
    "### Question 2\n",
    "\n",
    "Répéter le calcul de la question en rajoutant à la condition initiale un deuxième soliton pour lequel $c=1$ et $a=40$. \n",
    "\n",
    "Faire une animation de votre simulation qui montre que les deux solitons entrent en collision mais resortent de celle-ci sans déformation."
   ]
  },
  {
   "cell_type": "markdown",
   "metadata": {},
   "source": [
    "## Partie 2\n",
    "\n",
    "Dans cette partie du travail nous allons résoudre l'équation de KdV dans un **interval périodique** de période $L$ pour lequel $u(x+L,t)=u(x,t)$."
   ]
  },
  {
   "cell_type": "markdown",
   "metadata": {},
   "source": [
    "### Question 3\n",
    "\n",
    "Résoudre l'équation de KdV dans un interval périodique avec:\n",
    "\n",
    "```\n",
    "L = 40\n",
    "nx = 401\n",
    "dt = 0.0001\n",
    "```\n",
    "\n",
    "avec comme condition initiale: $ u_0(x) = \\frac{10}{3}\\cos(\\frac{\\pi x}{20})$.\n",
    "\n",
    "a) Représenter graphiquement votre solution pour $t=4$.\n",
    "\n",
    "b) Que vaut $u(x=10,t=4)$ ?"
   ]
  },
  {
   "cell_type": "markdown",
   "metadata": {},
   "source": [
    "### Question 4\n",
    "\n",
    "Refaire les calculs demandés à la question 3 mais en utilisant un algorithme explicite RK4 pour le terme $3\\frac{\\partial u^2}{\\partial x}$ et l'algorithme Euler implicite pour le terme $\\frac{\\partial^3 u}{\\partial x^3}$. Schématiquement on a:\n",
    "\n",
    "$$\n",
    "\\frac{u^{n+1} - u^{n}}{dt} = -3 * RK4[\\partial_x (u^n)^2] - \\frac{\\partial^3 u^{n+1}}{\\partial x^3}\n",
    "$$\n",
    "\n",
    "Comme pas de temps on prendra:\n",
    "\n",
    "```\n",
    "dt = 0.00001\n",
    "```\n",
    "\n",
    "\n",
    "**Attention:** votre solution ne sera que qualitativement égale à celle de la question 3 (voir question 5)."
   ]
  },
  {
   "cell_type": "markdown",
   "metadata": {},
   "source": [
    "### Question 5\n",
    "\n",
    "Expliquer pourquoi les solutions obtenues aux questions 3 et 4 ne sont que qualitativement similaires. Comment pourriez-vous améliorer leur accord ?\n"
   ]
  }
 ],
 "metadata": {
  "interpreter": {
   "hash": "de7c8584ae51fbb089eecc0d6f203cc3cae3114d5c45556091d2c5b63465aa84"
  },
  "jupytext": {
   "formats": "ipynb,md:myst"
  },
  "kernelspec": {
   "display_name": "Python 3 (ipykernel)",
   "language": "python",
   "name": "python3"
  },
  "language_info": {
   "codemirror_mode": {
    "name": "ipython",
    "version": 3
   },
   "file_extension": ".py",
   "mimetype": "text/x-python",
   "name": "python",
   "nbconvert_exporter": "python",
   "pygments_lexer": "ipython3",
   "version": "3.10.6"
  },
  "latex_envs": {
   "LaTeX_envs_menu_present": true,
   "autoclose": false,
   "autocomplete": true,
   "bibliofile": "biblio.bib",
   "cite_by": "apalike",
   "current_citInitial": 1,
   "eqLabelWithNumbers": true,
   "eqNumInitial": 1,
   "hotkeys": {
    "equation": "Ctrl-E",
    "itemize": "Ctrl-I"
   },
   "labels_anchors": false,
   "latex_user_defs": false,
   "report_style_numbering": false,
   "user_envs_cfg": false
  },
  "toc": {
   "base_numbering": 1,
   "nav_menu": {},
   "number_sections": false,
   "sideBar": true,
   "skip_h1_title": false,
   "title_cell": "Table of Contents",
   "title_sidebar": "Contents",
   "toc_cell": false,
   "toc_position": {
    "height": "calc(100% - 180px)",
    "left": "10px",
    "top": "150px",
    "width": "165px"
   },
   "toc_section_display": true,
   "toc_window_display": false
  }
 },
 "nbformat": 4,
 "nbformat_minor": 4
}
